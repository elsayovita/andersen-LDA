{
 "cells": [
  {
   "cell_type": "markdown",
   "id": "75f53dac",
   "metadata": {},
   "source": [
    "## Import dataset from website"
   ]
  },
  {
   "cell_type": "code",
   "execution_count": 23,
   "id": "8779be00",
   "metadata": {
    "executionInfo": {
     "elapsed": 3798,
     "status": "ok",
     "timestamp": 1697620919112,
     "user": {
      "displayName": "Elsa Y",
      "userId": "14998471066584414671"
     },
     "user_tz": -420
    },
    "id": "8779be00"
   },
   "outputs": [],
   "source": [
    "# Text retrieval\n",
    "import requests\n",
    "from bs4 import BeautifulSoup\n",
    "import numpy as np\n",
    "import pandas as pd\n",
    "\n",
    "# Visualization\n",
    "import matplotlib.pyplot as plt\n",
    "import seaborn as sns\n",
    "\n",
    "# Text Preprocessing\n",
    "import string\n",
    "import nltk\n",
    "from nltk import word_tokenize, pos_tag, FreqDist\n",
    "from nltk.corpus import stopwords\n",
    "\n",
    "#LDA\n",
    "import gensim\n",
    "from gensim import corpora\n",
    "from gensim.models.coherencemodel import CoherenceModel\n",
    "from operator import itemgetter"
   ]
  },
  {
   "cell_type": "code",
   "execution_count": 2,
   "id": "3IYAu1U88eT1",
   "metadata": {
    "executionInfo": {
     "elapsed": 4450,
     "status": "ok",
     "timestamp": 1697620928260,
     "user": {
      "displayName": "Elsa Y",
      "userId": "14998471066584414671"
     },
     "user_tz": -420
    },
    "id": "3IYAu1U88eT1"
   },
   "outputs": [],
   "source": [
    "# Get html code from url and store in r1\n",
    "url1 = \"https://www.gutenberg.org/files/27200/27200-h/27200-h.htm#jewish_m\"\n",
    "r1 = requests.get(url1)\n",
    "\n",
    "# Get html code using BeautifulSoup for better readability\n",
    "soup1 = BeautifulSoup(r1.content, 'html5lib')"
   ]
  },
  {
   "cell_type": "code",
   "execution_count": 3,
   "id": "3ueoH0KQR28N",
   "metadata": {
    "colab": {
     "base_uri": "https://localhost:8080/"
    },
    "executionInfo": {
     "elapsed": 530,
     "status": "ok",
     "timestamp": 1697621026877,
     "user": {
      "displayName": "Elsa Y",
      "userId": "14998471066584414671"
     },
     "user_tz": -420
    },
    "id": "3ueoH0KQR28N",
    "outputId": "afda31a5-d790-49c9-e605-adc8fad977ab"
   },
   "outputs": [
    {
     "name": "stdout",
     "output_type": "stream",
     "text": [
      "<h3 align=\"center\">\n",
      "A STORY\n",
      "</h3>\n",
      "<p>\n",
      "\"This is all very fine, no doubt,\" said the sparrows, \"and it is\n",
      "very beautiful; but it is not according to the calendar, therefore, it\n",
      "must be all wrong.\"\n",
      "</p>\n",
      "['h3', 'p', 'p', 'p', 'p']\n"
     ]
    }
   ],
   "source": [
    "# store all content within h3 and p tag as list \"stories\"\n",
    "stories = soup1.find_all([\"h3\", \"p\"])\n",
    "print(stories[0])\n",
    "print(stories[-1])\n",
    "\n",
    "# Extract the tag names (either h3 or p) and create a list\n",
    "tag_names = [element.name for element in stories]\n",
    "\n",
    "# Print the list of tag names\n",
    "print(tag_names[0:5])"
   ]
  },
  {
   "cell_type": "code",
   "execution_count": 4,
   "id": "a5b309ec",
   "metadata": {},
   "outputs": [],
   "source": [
    "## Get dictionary of title and story text\n",
    "story_list = []\n",
    "story_dict = {}\n",
    "\n",
    "for i, story in enumerate(stories):\n",
    "    #check if story is title\n",
    "    if tag_names[i] == 'h3':\n",
    "        # append to story_list if story_dict not empty\n",
    "        if story_dict != {}:  \n",
    "            story_list.append(story_dict)\n",
    "        #store text within is title as new row\n",
    "        story_dict = {\"title\":story.get_text(strip=True), \"story\": \"\"} \n",
    "    else:\n",
    "        #add text of is_paragraph to dict\n",
    "        story_dict[\"story\"] += story.get_text(strip=True)\n",
    "        \n",
    "# append last item to story_list\n",
    "story_list.append(story_dict) "
   ]
  },
  {
   "cell_type": "code",
   "execution_count": 5,
   "id": "ZLxsUxcYYee1",
   "metadata": {
    "colab": {
     "base_uri": "https://localhost:8080/"
    },
    "executionInfo": {
     "elapsed": 700,
     "status": "ok",
     "timestamp": 1697620811987,
     "user": {
      "displayName": "Elsa Y",
      "userId": "14998471066584414671"
     },
     "user_tz": -420
    },
    "id": "ZLxsUxcYYee1",
    "outputId": "8dc41b7e-abef-4e74-c577-49f3f27c59b7"
   },
   "outputs": [
    {
     "name": "stdout",
     "output_type": "stream",
     "text": [
      "Number of stories: 211\n"
     ]
    }
   ],
   "source": [
    "# Replace \"\\n\" with \" \"  and remove \"\\\" in the 'story' values\n",
    "for item in story_list:\n",
    "    item[\"story\"] = item[\"story\"].replace(\"\\n\", \" \")\n",
    "    \n",
    "print(f\"Number of stories: {len(story_list)}\")"
   ]
  },
  {
   "cell_type": "code",
   "execution_count": 6,
   "id": "efde4d01",
   "metadata": {},
   "outputs": [
    {
     "data": {
      "text/html": [
       "<div>\n",
       "<style scoped>\n",
       "    .dataframe tbody tr th:only-of-type {\n",
       "        vertical-align: middle;\n",
       "    }\n",
       "\n",
       "    .dataframe tbody tr th {\n",
       "        vertical-align: top;\n",
       "    }\n",
       "\n",
       "    .dataframe thead th {\n",
       "        text-align: right;\n",
       "    }\n",
       "</style>\n",
       "<table border=\"1\" class=\"dataframe\">\n",
       "  <thead>\n",
       "    <tr style=\"text-align: right;\">\n",
       "      <th></th>\n",
       "      <th>title</th>\n",
       "      <th>story</th>\n",
       "    </tr>\n",
       "  </thead>\n",
       "  <tbody>\n",
       "    <tr>\n",
       "      <th>0</th>\n",
       "      <td>A STORY</td>\n",
       "      <td>In the garden all the apple-trees were in blos...</td>\n",
       "    </tr>\n",
       "    <tr>\n",
       "      <th>1</th>\n",
       "      <td>BY THE ALMSHOUSE WINDOW</td>\n",
       "      <td>Near the grass-covered rampart which encircles...</td>\n",
       "    </tr>\n",
       "    <tr>\n",
       "      <th>2</th>\n",
       "      <td>THE ANGEL</td>\n",
       "      <td>\"Whenever a good child dies, an angel of God c...</td>\n",
       "    </tr>\n",
       "    <tr>\n",
       "      <th>3</th>\n",
       "      <td>ANNE LISBETH</td>\n",
       "      <td>Anne Lisbeth was a beautiful young woman, with...</td>\n",
       "    </tr>\n",
       "    <tr>\n",
       "      <th>4</th>\n",
       "      <td>THE CONCEITED APPLE-BRANCH</td>\n",
       "      <td>It was the month of May.  The wind still blew ...</td>\n",
       "    </tr>\n",
       "  </tbody>\n",
       "</table>\n",
       "</div>"
      ],
      "text/plain": [
       "                        title  \\\n",
       "0                     A STORY   \n",
       "1     BY THE ALMSHOUSE WINDOW   \n",
       "2                   THE ANGEL   \n",
       "3                ANNE LISBETH   \n",
       "4  THE CONCEITED APPLE-BRANCH   \n",
       "\n",
       "                                               story  \n",
       "0  In the garden all the apple-trees were in blos...  \n",
       "1  Near the grass-covered rampart which encircles...  \n",
       "2  \"Whenever a good child dies, an angel of God c...  \n",
       "3  Anne Lisbeth was a beautiful young woman, with...  \n",
       "4  It was the month of May.  The wind still blew ...  "
      ]
     },
     "execution_count": 6,
     "metadata": {},
     "output_type": "execute_result"
    }
   ],
   "source": [
    "df_story = pd.DataFrame.from_dict(story_list)\n",
    "df_story.head()"
   ]
  },
  {
   "cell_type": "markdown",
   "id": "89620f82",
   "metadata": {},
   "source": [
    "## Text Preprocessing"
   ]
  },
  {
   "cell_type": "code",
   "execution_count": 12,
   "id": "ae2383fd",
   "metadata": {},
   "outputs": [],
   "source": [
    "##Use pos tagging + lemmatizing\n",
    "\n",
    "mystopwords = stopwords.words(\"english\") + ['come', 'go', 'say', 'see', 'look'] #from 1st LDA run\n",
    "#instantiate lemmatizer\n",
    "wnl = nltk.WordNetLemmatizer()\n",
    "\n",
    "def lemmaNVAR(wpos):\n",
    "    #input: tuple of (word token, pos)\n",
    "    #output: lemmatized word token\n",
    "    lemmas = []\n",
    "    for w, pos in wpos:\n",
    "        if pos[0] in ('N', 'V', 'J', 'R'):\n",
    "            if pos in ('NNS', 'RBR', 'RBS', 'VBD', 'VBG', 'VBN', 'VBP', 'VBZ'):\n",
    "                lemmas.append(wnl.lemmatize(w, pos = pos[0].lower()))\n",
    "            elif pos in ('JJR', 'JJS'):\n",
    "                lemmas.append(wnl.lemmatize(w, pos = 'a'))\n",
    "            else:\n",
    "                lemmas.append(w)\n",
    "    return lemmas\n",
    "\n",
    "def get_lemmas(text):\n",
    "    #input: raw text\n",
    "    #output: preprocessed word token\n",
    "    tokens = [word_tokenize(t.lower()) for t in text] # get list of tokens in lowercase\n",
    "    tokens = [[w for w in t if w not in string.punctuation+\"’“”\"] for t in tokens] # remove punctuations\n",
    "    tokens = [pos_tag(t) for t in tokens] # get POS\n",
    "    tokens = [lemmaNVAR(t) for t in tokens] # lemmatize\n",
    "    tokens = [[w for w in t if w not in mystopwords] for t in tokens] # remove stopwords\n",
    "    return tokens\n"
   ]
  },
  {
   "cell_type": "code",
   "execution_count": 13,
   "id": "bba5751d",
   "metadata": {},
   "outputs": [
    {
     "name": "stdout",
     "output_type": "stream",
     "text": [
      "211\n"
     ]
    },
    {
     "data": {
      "text/plain": [
       "['bring', 'forth', 'flower', 'get', 'green']"
      ]
     },
     "execution_count": 13,
     "metadata": {},
     "output_type": "execute_result"
    }
   ],
   "source": [
    "#run function for concatenated title and story\n",
    "\n",
    "text = df_story[\"title\"] + \" \" + df_story[\"story\"]\n",
    "t_lemma = get_lemmas(text)\n",
    "print(len(t_lemma))\n",
    "t_lemma[0][5:10]\n"
   ]
  },
  {
   "cell_type": "markdown",
   "id": "577441c8",
   "metadata": {},
   "source": [
    "## Topic Modelling"
   ]
  },
  {
   "cell_type": "code",
   "execution_count": 14,
   "id": "bba3cc0a",
   "metadata": {},
   "outputs": [
    {
     "name": "stdout",
     "output_type": "stream",
     "text": [
      "Dictionary<5799 unique tokens: [\"'s\", 'able', 'adorn', 'ago', 'air']...>\n"
     ]
    }
   ],
   "source": [
    "# Use dictionary (built from corpus) to prepare a DTM (using frequency)\n",
    "\n",
    "# Filter off any words with document frequency less than 2, or appearing in more than 90% documents\n",
    "dictionary = corpora.Dictionary(t_lemma)\n",
    "dictionary.filter_extremes(no_below=2, no_above=0.9)\n",
    "print(dictionary)"
   ]
  },
  {
   "cell_type": "code",
   "execution_count": 15,
   "id": "aec32658",
   "metadata": {},
   "outputs": [],
   "source": [
    "# get dtm as list of list\n",
    "dtm = [dictionary.doc2bow(d) for d in t_lemma]"
   ]
  },
  {
   "cell_type": "code",
   "execution_count": 27,
   "id": "1dbf9f2c",
   "metadata": {},
   "outputs": [],
   "source": [
    "# Compute Coherence Score for 3-20 topics\n",
    "n_topics = list(range(3,21))\n",
    "coherence_score = []\n",
    "\n",
    "for i in n_topics:\n",
    "    lda = gensim.models.ldamodel.LdaModel(dtm, num_topics = i, id2word = dictionary, chunksize=128, passes=10,random_state=10)\n",
    "    coherence_model_lda = CoherenceModel(model=lda, texts=t_lemma, dictionary=dictionary, coherence='c_v')\n",
    "    coherence_lda = coherence_model_lda.get_coherence()\n",
    "    coherence_score.append(coherence_lda)"
   ]
  },
  {
   "cell_type": "code",
   "execution_count": 28,
   "id": "8e71379d",
   "metadata": {},
   "outputs": [
    {
     "data": {
      "image/png": "[encoded data removed]",
      "text/plain": [
       "<Figure size 432x288 with 1 Axes>"
      ]
     },
     "metadata": {
      "needs_background": "light"
     },
     "output_type": "display_data"
    }
   ],
   "source": [
    "#plot coherence vs number of topics\n",
    "sns.lineplot(x=n_topics, y=coherence_score)\n",
    "\n",
    "# Add labels and a title\n",
    "plt.xlabel('n_topics')\n",
    "plt.ylabel('coherence_score')\n",
    "plt.title('Coherence Score vs number of topics')\n",
    "\n",
    "# Display the chart\n",
    "plt.show()"
   ]
  },
  {
   "cell_type": "code",
   "execution_count": 29,
   "id": "e74b68ec",
   "metadata": {},
   "outputs": [
    {
     "data": {
      "text/plain": [
       "[(0,\n",
       "  '0.021*\"reindeer\" + 0.016*\"robber-girl\" + 0.010*\"gerda\" + 0.009*\"finland\" + 0.008*\"lapland\" + 0.007*\"rise\" + 0.006*\"grave\" + 0.005*\"buckwheat\" + 0.004*\"nightingale\" + 0.003*\"throne\"'),\n",
       " (1,\n",
       "  '0.011*\"little\" + 0.008*\"old\" + 0.008*\"good\" + 0.007*\"know\" + 0.006*\"take\" + 0.006*\"think\" + 0.006*\"make\" + 0.006*\"great\" + 0.005*\"well\" + 0.005*\"quite\"'),\n",
       " (2,\n",
       "  '0.015*\"rudy\" + 0.012*\"babette\" + 0.010*\"sausage\" + 0.010*\"skewer\" + 0.010*\"mouse\" + 0.009*\"soup\" + 0.008*\"miller\" + 0.006*\"make\" + 0.005*\"great\" + 0.005*\"know\"'),\n",
       " (3,\n",
       "  '0.015*\"little\" + 0.007*\"old\" + 0.006*\"flower\" + 0.005*\"beautiful\" + 0.005*\"stand\" + 0.005*\"away\" + 0.005*\"fly\" + 0.005*\"tree\" + 0.005*\"wind\" + 0.005*\"know\"'),\n",
       " (4,\n",
       "  '0.015*\"man\" + 0.009*\"old\" + 0.006*\"know\" + 0.006*\"great\" + 0.005*\"house\" + 0.005*\"away\" + 0.005*\"shadow\" + 0.005*\"time\" + 0.005*\"people\" + 0.005*\"think\"')]"
      ]
     },
     "execution_count": 29,
     "metadata": {},
     "output_type": "execute_result"
    }
   ],
   "source": [
    "lda_5 = gensim.models.ldamodel.LdaModel(dtm, num_topics = 5, id2word = dictionary, chunksize=128, passes=10,random_state=10)\n",
    "lda_5.show_topics(10)"
   ]
  },
  {
   "cell_type": "markdown",
   "id": "35858809",
   "metadata": {},
   "source": [
    "### 5 common topics in Andersen's story:\n",
    "* 0: Winter Folklore stories - such as\n",
    "* 1: Stories involving moral virtues\n",
    "* 2: Stories with food-related elements\n",
    "* 3: Stories involving beauty of nature\n",
    "* 4: Stories involving people and society"
   ]
  },
  {
   "cell_type": "markdown",
   "id": "e4c9d5fb",
   "metadata": {},
   "source": [
    "## Assign Topics of Individual Stories"
   ]
  },
  {
   "cell_type": "code",
   "execution_count": 33,
   "id": "bed54f88",
   "metadata": {},
   "outputs": [
    {
     "name": "stdout",
     "output_type": "stream",
     "text": [
      "[(0, 0.041108944), (1, 0.5671115), (3, 0.34305522), (4, 0.048425816)]\n",
      "1\n",
      "[(1, 0.3067212), (3, 0.68914247)]\n",
      "3\n",
      "[(1, 0.35726494), (3, 0.6412218)]\n",
      "3\n",
      "[(1, 0.31044924), (3, 0.46060026), (4, 0.22870636)]\n",
      "3\n",
      "[(1, 0.55503994), (3, 0.44005224)]\n",
      "1\n"
     ]
    }
   ],
   "source": [
    "# Create dict of topics discovered\n",
    "story_topics = {0: 'winter folklore', 1: 'moral virtues', 2: 'food-related', 3: 'nature', 4:'people and society'}\n",
    "\n",
    "# Get the topic distribution of documents\n",
    "doc_topics = lda_5.get_document_topics(dtm)\n",
    "\n",
    "#show the topic distributions for the first 5 docs, \n",
    "for i in range(0, 5):\n",
    "    print(doc_topics[i])\n",
    "    print(max(doc_topics[i], key=itemgetter(1))[0]) "
   ]
  },
  {
   "cell_type": "code",
   "execution_count": 34,
   "id": "738644b9",
   "metadata": {},
   "outputs": [
    {
     "name": "stdout",
     "output_type": "stream",
     "text": [
      "[1, 3, 3, 3, 1, 1, 1, 3, 3, 3, 3, 1, 3, 1, 4, 3, 1, 4, 3, 1, 1, 1, 3, 2, 1, 3, 3, 1, 1, 1, 1, 1, 3, 1, 1, 1, 2, 1, 4, 1, 4, 1, 3, 1, 3, 1, 1, 1, 4, 1, 3, 4, 4, 4, 4, 4, 2, 3, 3, 4, 2, 4, 3, 2, 4, 3, 4, 1, 3, 3, 3, 3, 1, 3, 3, 3, 3, 3, 1, 1, 1, 1, 4, 4, 3, 1, 3, 4, 3, 3, 3, 3, 3, 4, 4, 1, 1, 3, 4, 1, 3, 4, 3, 3, 1, 3, 3, 4, 3, 3, 3, 3, 1, 1, 3, 1, 3, 1, 4, 1, 4, 2, 4, 4, 1, 4, 4, 1, 1, 3, 1, 1, 1, 1, 1, 4, 4, 1, 4, 4, 3, 1, 1, 1, 3, 1, 1, 1, 1, 4, 4, 1, 1, 1, 3, 1, 3, 1, 4, 1, 1, 4, 4, 3, 4, 1, 0, 3, 2, 3, 2, 1, 4, 3, 0, 3, 4, 3, 3, 1, 2, 2, 1, 2, 2, 1, 4, 3, 3, 3, 1, 1, 4, 4, 3, 1, 1, 1, 1, 1, 4, 1, 4, 3, 1, 3, 3, 4, 3, 1, 3]\n"
     ]
    }
   ],
   "source": [
    "#Select the best topic (with highest score) for each document\n",
    "top_topic = [ max(t, key=itemgetter(1))[0] for t in doc_topics ]\n",
    "print(top_topic)"
   ]
  },
  {
   "cell_type": "code",
   "execution_count": 35,
   "id": "2324aa2a",
   "metadata": {},
   "outputs": [
    {
     "data": {
      "text/html": [
       "<div>\n",
       "<style scoped>\n",
       "    .dataframe tbody tr th:only-of-type {\n",
       "        vertical-align: middle;\n",
       "    }\n",
       "\n",
       "    .dataframe tbody tr th {\n",
       "        vertical-align: top;\n",
       "    }\n",
       "\n",
       "    .dataframe thead th {\n",
       "        text-align: right;\n",
       "    }\n",
       "</style>\n",
       "<table border=\"1\" class=\"dataframe\">\n",
       "  <thead>\n",
       "    <tr style=\"text-align: right;\">\n",
       "      <th></th>\n",
       "      <th>title</th>\n",
       "      <th>story</th>\n",
       "      <th>top_topic</th>\n",
       "    </tr>\n",
       "  </thead>\n",
       "  <tbody>\n",
       "    <tr>\n",
       "      <th>206</th>\n",
       "      <td>THE WILD SWANS</td>\n",
       "      <td>Far away in the land to which the swallows fly...</td>\n",
       "      <td>nature</td>\n",
       "    </tr>\n",
       "    <tr>\n",
       "      <th>207</th>\n",
       "      <td>THE WILL-O-THE WISP IS IN THE TOWN, SAYS THE M...</td>\n",
       "      <td>There was a man who once knew many stories, bu...</td>\n",
       "      <td>people and society</td>\n",
       "    </tr>\n",
       "    <tr>\n",
       "      <th>208</th>\n",
       "      <td>THE STORY OF THE WIND</td>\n",
       "      <td>\"Near the shores of the great Belt, which is o...</td>\n",
       "      <td>nature</td>\n",
       "    </tr>\n",
       "    <tr>\n",
       "      <th>209</th>\n",
       "      <td>THE WINDMILL</td>\n",
       "      <td>A windmill stood upon the hill, proud to look ...</td>\n",
       "      <td>moral virtues</td>\n",
       "    </tr>\n",
       "    <tr>\n",
       "      <th>210</th>\n",
       "      <td>THE STORY OF THE YEAR</td>\n",
       "      <td>It was near the end of January, and a terrible...</td>\n",
       "      <td>nature</td>\n",
       "    </tr>\n",
       "  </tbody>\n",
       "</table>\n",
       "</div>"
      ],
      "text/plain": [
       "                                                 title  \\\n",
       "206                                     THE WILD SWANS   \n",
       "207  THE WILL-O-THE WISP IS IN THE TOWN, SAYS THE M...   \n",
       "208                              THE STORY OF THE WIND   \n",
       "209                                       THE WINDMILL   \n",
       "210                              THE STORY OF THE YEAR   \n",
       "\n",
       "                                                 story           top_topic  \n",
       "206  Far away in the land to which the swallows fly...              nature  \n",
       "207  There was a man who once knew many stories, bu...  people and society  \n",
       "208  \"Near the shores of the great Belt, which is o...              nature  \n",
       "209  A windmill stood upon the hill, proud to look ...       moral virtues  \n",
       "210  It was near the end of January, and a terrible...              nature  "
      ]
     },
     "execution_count": 35,
     "metadata": {},
     "output_type": "execute_result"
    }
   ],
   "source": [
    "# Add top_topic as column in df_story\n",
    "df_story[\"top_topic\"] = top_topic\n",
    "df_story[\"top_topic\"] = df_story[\"top_topic\"].replace(story_topics)\n",
    "df_story.tail()"
   ]
  },
  {
   "cell_type": "code",
   "execution_count": 36,
   "id": "da8193ca",
   "metadata": {},
   "outputs": [],
   "source": [
    "df_story.to_excel(\"andersen_story_topics.xlsx\", index = False)"
   ]
  }
 ],
 "metadata": {
  "colab": {
   "provenance": []
  },
  "kernelspec": {
   "display_name": "Python 3 (ipykernel)",
   "language": "python",
   "name": "python3"
  },
  "language_info": {
   "codemirror_mode": {
    "name": "ipython",
    "version": 3
   },
   "file_extension": ".py",
   "mimetype": "text/x-python",
   "name": "python",
   "nbconvert_exporter": "python",
   "pygments_lexer": "ipython3",
   "version": "3.9.7"
  }
 },
 "nbformat": 4,
 "nbformat_minor": 5
}
